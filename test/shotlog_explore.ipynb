{
 "cells": [
  {
   "cell_type": "code",
   "execution_count": 1,
   "metadata": {
    "collapsed": true
   },
   "outputs": [],
   "source": [
    "import numpy as np\n",
    "import pandas as pd\n",
    "\n",
    "import matplotlib.pyplot as plt\n",
    "from matplotlib.patches import Circle, Rectangle, Arc\n",
    "%matplotlib inline\n",
    "\n",
    "import datetime\n",
    "\n",
    "from team_player_ids import *\n",
    "from fuzzywuzzy import fuzz, process"
   ]
  },
  {
   "cell_type": "code",
   "execution_count": 78,
   "metadata": {
    "collapsed": true
   },
   "outputs": [],
   "source": [
    "from draw_court import draw_court\n"
   ]
  },
  {
   "cell_type": "code",
   "execution_count": 77,
   "metadata": {
    "collapsed": true
   },
   "outputs": [],
   "source": [
    "del draw_court"
   ]
  },
  {
   "cell_type": "code",
   "execution_count": 58,
   "metadata": {
    "collapsed": true
   },
   "outputs": [],
   "source": [
    "def extract_date_from_matchup(matchup):\n",
    "    return datetime.datetime.strptime(matchup[:12], \"%b %d, %Y\").date()\n",
    "\n",
    "\n",
    "def extract_team_from_matchup(matchup):\n",
    "    away = '@' in matchup\n",
    "    if away:\n",
    "        tm = matchup.split(' ')[-1]\n",
    "    else:\n",
    "        tm = matchup.split(' ')[-3]\n",
    "    return tm\n",
    "\n",
    "def extract_oppenent_from_matchup(matchup):\n",
    "    away = '@' in matchup\n",
    "    if away:\n",
    "        opp = matchup.split(' ')[-3]\n",
    "    else:\n",
    "        opp = matchup.split(' ')[-1]\n",
    "    return opp\n",
    "\n",
    "def get_player_by_id(id):\n",
    "    for p in players:\n",
    "        if p['playerId'] == id:\n",
    "            return p['firstName'] + ' ' + p['lastName']\n",
    "        \n",
    "def find_player(fname, lname):\n",
    "    matches = {}\n",
    "    pnames = [(p['firstName'], p['lastName']) for p in players]\n",
    "    for ii, p in enumerate(pnames):\n",
    "        matches[ii] = np.mean((fuzz.partial_ratio(fname, p[0]), fuzz.partial_ratio(lname, p[1])))\n",
    "    top_score, top_ii = 0, None\n",
    "    for ii in matches:\n",
    "        if matches[ii] > top_score:\n",
    "            top_score = matches[ii]\n",
    "            top_ii = ii\n",
    "    return players[top_ii]"
   ]
  },
  {
   "cell_type": "code",
   "execution_count": 2,
   "metadata": {
    "collapsed": true
   },
   "outputs": [],
   "source": [
    "df15 = pd.read_csv('shot_chart201415.csv')\n",
    "df14 = pd.read_csv('shot_chart201314.csv')"
   ]
  },
  {
   "cell_type": "code",
   "execution_count": 27,
   "metadata": {
    "collapsed": false
   },
   "outputs": [],
   "source": [
    "# df14.insert(2, 'dt', df14.MATCHUP.apply(lambda m: extract_date_from_matchup(m)))\n",
    "# df14.insert(4, 'opp', df14.5ATCHUP.apply(lambda m: extract_oppenent_from_matchup(m)))\n",
    "# df14.insert(5, 'tm', df14.MATCHUP.apply(lambda m: extract_team_from_matchup(m)))\n",
    "# df14.insert(1, 'player', df14.playerId.apply(lambda i: get_player_by_id(i)))\n",
    "# df14['season'] =  201314\n",
    "\n",
    "# df15.insert(2, 'dt', df15.MATCHUP.apply(lambda m: extract_date_from_matchup(m)))\n",
    "# df15.insert(4, 'opp', df15.5ATCHUP.apply(lambda m: extract_oppenent_from_matchup(m)))\n",
    "# df15.insert(5, 'tm', df15.MATCHUP.apply(lambda m: extract_team_from_matchup(m)))\n",
    "df15.insert(1, 'player', df15.playerId.apply(lambda i: get_player_by_id(i)))\n",
    "# df15['season'] =  201415"
   ]
  },
  {
   "cell_type": "code",
   "execution_count": 72,
   "metadata": {
    "collapsed": true
   },
   "outputs": [],
   "source": [
    "# Steph 201939\n",
    "# LBJ 2544\n",
    "# Reggie Jackson: 202704"
   ]
  },
  {
   "cell_type": "code",
   "execution_count": 71,
   "metadata": {
    "collapsed": false
   },
   "outputs": [
    {
     "data": {
      "text/plain": [
       "{'firstName': 'Reggie', 'lastName': 'Jackson', 'playerId': 202704}"
      ]
     },
     "execution_count": 71,
     "metadata": {},
     "output_type": "execute_result"
    }
   ],
   "source": [
    "find_player('Reggie', 'J')"
   ]
  },
  {
   "cell_type": "code",
   "execution_count": 73,
   "metadata": {
    "collapsed": false
   },
   "outputs": [],
   "source": [
    "dfSteph = df15[df15.playerId == 201939]\n",
    "dfLebron = df15[df15.playerId == 2544]\n",
    "dfReggie = df15[df15.playerId == 202704]"
   ]
  },
  {
   "cell_type": "code",
   "execution_count": 53,
   "metadata": {
    "collapsed": false
   },
   "outputs": [
    {
     "data": {
      "text/plain": [
       "<matplotlib.collections.PathCollection at 0x7f0d019d3c90>"
      ]
     },
     "execution_count": 53,
     "metadata": {},
     "output_type": "execute_result"
    },
    {
     "data": {
      "image/png": "[encoded data removed]",
      "text/plain": [
       "<matplotlib.figure.Figure at 0x7f0d04e827d0>"
      ]
     },
     "metadata": {},
     "output_type": "display_data"
    }
   ],
   "source": [
    "plt.scatter(dfSteph.groupby('SHOT_NUMBER')[['FGM']].mean().index, \n",
    "         dfSteph.groupby('SHOT_NUMBER')[['FGM']].mean().values, alpha = 0.75)"
   ]
  },
  {
   "cell_type": "code",
   "execution_count": 62,
   "metadata": {
    "collapsed": false
   },
   "outputs": [
    {
     "data": {
      "text/plain": [
       "<matplotlib.collections.PathCollection at 0x7f0d01890790>"
      ]
     },
     "execution_count": 62,
     "metadata": {},
     "output_type": "execute_result"
    },
    {
     "data": {
      "image/png": "[encoded data removed]",
      "text/plain": [
       "<matplotlib.figure.Figure at 0x7f0d01ae12d0>"
      ]
     },
     "metadata": {},
     "output_type": "display_data"
    }
   ],
   "source": [
    "plt.scatter(dfLebron.groupby('SHOT_NUMBER')[['FGM']].mean().index, \n",
    "         dfLebron.groupby('SHOT_NUMBER')[['FGM']].mean().values, alpha = 0.75)"
   ]
  },
  {
   "cell_type": "code",
   "execution_count": 74,
   "metadata": {
    "collapsed": false
   },
   "outputs": [
    {
     "data": {
      "text/plain": [
       "<matplotlib.collections.PathCollection at 0x7f0d0181c810>"
      ]
     },
     "execution_count": 74,
     "metadata": {},
     "output_type": "execute_result"
    },
    {
     "data": {
      "image/png": "[encoded data removed]",
      "text/plain": [
       "<matplotlib.figure.Figure at 0x7f0d04923ad0>"
      ]
     },
     "metadata": {},
     "output_type": "display_data"
    }
   ],
   "source": [
    "plt.scatter(dfReggie.groupby('SHOT_NUMBER')[['FGM']].mean().index, \n",
    "         dfReggie.groupby('SHOT_NUMBER')[['FGM']].mean().values, alpha = 0.75)"
   ]
  },
  {
   "cell_type": "code",
   "execution_count": null,
   "metadata": {
    "collapsed": true
   },
   "outputs": [],
   "source": []
  },
  {
   "cell_type": "code",
   "execution_count": null,
   "metadata": {
    "collapsed": true
   },
   "outputs": [],
   "source": []
  },
  {
   "cell_type": "code",
   "execution_count": null,
   "metadata": {
    "collapsed": true
   },
   "outputs": [],
   "source": []
  },
  {
   "cell_type": "code",
   "execution_count": null,
   "metadata": {
    "collapsed": true
   },
   "outputs": [],
   "source": []
  },
  {
   "cell_type": "code",
   "execution_count": null,
   "metadata": {
    "collapsed": true
   },
   "outputs": [],
   "source": []
  }
 ],
 "metadata": {
  "kernelspec": {
   "display_name": "Python 2",
   "language": "python",
   "name": "python2"
  },
  "language_info": {
   "codemirror_mode": {
    "name": "ipython",
    "version": 2
   },
   "file_extension": ".py",
   "mimetype": "text/x-python",
   "name": "python",
   "nbconvert_exporter": "python",
   "pygments_lexer": "ipython2",
   "version": "2.7.9"
  }
 },
 "nbformat": 4,
 "nbformat_minor": 0
}
